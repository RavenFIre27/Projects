{
  "nbformat": 4,
  "nbformat_minor": 5,
  "metadata": {
    "kernelspec": {
      "display_name": "jma",
      "language": "python",
      "name": "jma"
    },
    "language_info": {
      "codemirror_mode": {
        "name": "ipython",
        "version": 3
      },
      "file_extension": ".py",
      "mimetype": "text/x-python",
      "name": "python",
      "nbconvert_exporter": "python",
      "pygments_lexer": "ipython3",
      "version": "3.7.11"
    },
    "colab": {
      "provenance": [],
      "collapsed_sections": [
        "6b2a6e09",
        "e84907ba",
        "c6920638",
        "cbef951d",
        "cd0f4803",
        "7624befb",
        "aa949309",
        "5b20bd45",
        "b2faec26",
        "f3e47636",
        "680f47e6",
        "b5094fea",
        "df5d0680",
        "c2a64503",
        "f8cbd62b",
        "e38f3634",
        "313d9dd1",
        "515e51b0",
        "9f9211ec",
        "8f4b89c4",
        "7b22465a",
        "fe957995",
        "a4c58a12",
        "9e438027",
        "e9bdf0ef",
        "77a8ff9f",
        "a9915a4e",
        "5cde9166",
        "862f1fda",
        "dc0cb65f",
        "0ad493b2",
        "bce8af3d",
        "cf11d073",
        "fe4f1006",
        "d4309d0f",
        "54b04bdf",
        "6e7dde22"
      ]
    }
  },
  "cells": [
    {
      "cell_type": "code",
      "metadata": {
        "id": "c7800986"
      },
      "source": [
        "import pandas as pd\n",
        "pd.set_option('display.max_columns', None)\n",
        "pd.set_option('display.max_rows',None)\n",
        "import numpy as np\n",
        "import pprint\n",
        "from statsmodels.stats.outliers_influence import variance_inflation_factor\n",
        "from sklearn.linear_model import LogisticRegression\n",
        "from sklearn.ensemble import RandomForestClassifier\n",
        "from xgboost import XGBClassifier\n",
        "from sklearn.neighbors import KNeighborsClassifier\n",
        "from sklearn.svm import SVC\n",
        "from sklearn.model_selection import train_test_split, RandomizedSearchCV\n",
        "from sklearn.metrics import accuracy_score, roc_curve, roc_auc_score, confusion_matrix, precision_recall_curve, auc, classification_report, f1_score, matthews_corrcoef\n",
        "import matplotlib.pyplot as plt\n",
        "from math import sqrt\n",
        "from scipy import stats\n",
        "from IPython.core.interactiveshell import InteractiveShell\n",
        "InteractiveShell.ast_node_interactivity = 'all'"
      ],
      "id": "c7800986",
      "execution_count": null,
      "outputs": []
    },
    {
      "cell_type": "markdown",
      "metadata": {
        "id": "818c4d7c"
      },
      "source": [
        "# Reading in and Previewing CSV File\n"
      ],
      "id": "818c4d7c"
    },
    {
      "cell_type": "code",
      "metadata": {
        "colab": {
          "base_uri": "https://localhost:8080/",
          "height": 305
        },
        "id": "7ed2cdc1",
        "outputId": "debd3cba-2eb3-4092-c451-c1e3f9462e16"
      },
      "source": [
        "file = 'Predict Cancer Death File.csv'\n",
        "df = pd.read_csv(file)\n",
        "df.shape\n",
        "df.head()"
      ],
      "id": "7ed2cdc1",
      "execution_count": null,
      "outputs": [
        {
          "output_type": "execute_result",
          "data": {
            "text/plain": [
              "(5000, 36)"
            ]
          },
          "metadata": {},
          "execution_count": 7
        },
        {
          "output_type": "execute_result",
          "data": {
            "text/plain": [
              "   Unnamed: 0  SEX  INOUT   Age  HEIGHT  WEIGHT  SMOKE  PACKS  DYSPNEA  \\\n",
              "0         NaN  0.0    1.0  48.0    68.0   147.0    0.0    0.0      0.0   \n",
              "1         NaN  0.0    0.0  51.0    64.0    95.0    0.0    0.0      0.0   \n",
              "2         NaN  0.0    0.0  68.0    65.0   173.0    0.0    0.0      0.0   \n",
              "3         NaN  0.0    0.0  55.0    63.0   256.0    0.0    0.0      0.0   \n",
              "4         NaN  0.0    0.0  63.0    65.0   156.0    0.0    8.0      0.0   \n",
              "\n",
              "   VENTILAT  HXCOPD  ASCITES  HXCHF  HYPERMED  RENAFAIL  DIALYSIS  STEROID  \\\n",
              "0       0.0     0.0      0.0    0.0       0.0       0.0       0.0      0.0   \n",
              "1       0.0     0.0      0.0    0.0       0.0       0.0       0.0      0.0   \n",
              "2       0.0     0.0      0.0    0.0       1.0       0.0       0.0      0.0   \n",
              "3       0.0     0.0      0.0    0.0       0.0       0.0       0.0      0.0   \n",
              "4       0.0     0.0      0.0    0.0       1.0       0.0       0.0      0.0   \n",
              "\n",
              "   WTLOSS  BLEEDDIS  TRANSFUS  PRSEPIS  PRSODM  PRBUN  PRCREAT  PRALBUM  \\\n",
              "0     0.0       0.0       0.0      0.0   139.0    8.0      0.4      4.0   \n",
              "1     1.0       1.0       0.0      0.0   140.0   15.0      1.3      3.2   \n",
              "2     0.0       0.0       1.0      0.0   135.0   14.0      0.5      3.2   \n",
              "3     0.0       1.0       0.0      0.0   133.0    9.0      0.5      4.6   \n",
              "4     0.0       0.0       0.0      0.0   139.0   13.0      0.9      4.3   \n",
              "\n",
              "   PRBILI  PRSGOT  PRALKPH  PRWBC  PRHCT  PRPLATE  PRPTT  PRINR  OPTIME  \\\n",
              "0     0.6    27.0    123.0    9.7   37.0    285.0   29.0    1.0    12.0   \n",
              "1     0.7    15.0     98.0    9.0   27.0    248.0   36.0    1.5   178.0   \n",
              "2     0.9    23.0     93.0   15.8   28.0    180.0   36.0    1.3    98.0   \n",
              "3     0.2    32.0     93.0    8.6   45.0    275.0   31.0    0.9   338.0   \n",
              "4     0.6    30.0    111.0    5.7   39.0    278.0   30.0    1.0   272.0   \n",
              "\n",
              "   DOpertoD  RETUR0R  \n",
              "0       0.0      0.0  \n",
              "1       1.0      0.0  \n",
              "2       0.0      0.0  \n",
              "3       1.0      0.0  \n",
              "4       0.0      0.0  "
            ],
            "text/html": [
              "\n",
              "  <div id=\"df-1f0d9004-df36-41d5-afdd-5c3ab8995c0c\">\n",
              "    <div class=\"colab-df-container\">\n",
              "      <div>\n",
              "<style scoped>\n",
              "    .dataframe tbody tr th:only-of-type {\n",
              "        vertical-align: middle;\n",
              "    }\n",
              "\n",
              "    .dataframe tbody tr th {\n",
              "        vertical-align: top;\n",
              "    }\n",
              "\n",
              "    .dataframe thead th {\n",
              "        text-align: right;\n",
              "    }\n",
              "</style>\n",
              "<table border=\"1\" class=\"dataframe\">\n",
              "  <thead>\n",
              "    <tr style=\"text-align: right;\">\n",
              "      <th></th>\n",
              "      <th>Unnamed: 0</th>\n",
              "      <th>SEX</th>\n",
              "      <th>INOUT</th>\n",
              "      <th>Age</th>\n",
              "      <th>HEIGHT</th>\n",
              "      <th>WEIGHT</th>\n",
              "      <th>SMOKE</th>\n",
              "      <th>PACKS</th>\n",
              "      <th>DYSPNEA</th>\n",
              "      <th>VENTILAT</th>\n",
              "      <th>HXCOPD</th>\n",
              "      <th>ASCITES</th>\n",
              "      <th>HXCHF</th>\n",
              "      <th>HYPERMED</th>\n",
              "      <th>RENAFAIL</th>\n",
              "      <th>DIALYSIS</th>\n",
              "      <th>STEROID</th>\n",
              "      <th>WTLOSS</th>\n",
              "      <th>BLEEDDIS</th>\n",
              "      <th>TRANSFUS</th>\n",
              "      <th>PRSEPIS</th>\n",
              "      <th>PRSODM</th>\n",
              "      <th>PRBUN</th>\n",
              "      <th>PRCREAT</th>\n",
              "      <th>PRALBUM</th>\n",
              "      <th>PRBILI</th>\n",
              "      <th>PRSGOT</th>\n",
              "      <th>PRALKPH</th>\n",
              "      <th>PRWBC</th>\n",
              "      <th>PRHCT</th>\n",
              "      <th>PRPLATE</th>\n",
              "      <th>PRPTT</th>\n",
              "      <th>PRINR</th>\n",
              "      <th>OPTIME</th>\n",
              "      <th>DOpertoD</th>\n",
              "      <th>RETUR0R</th>\n",
              "    </tr>\n",
              "  </thead>\n",
              "  <tbody>\n",
              "    <tr>\n",
              "      <th>0</th>\n",
              "      <td>NaN</td>\n",
              "      <td>0.0</td>\n",
              "      <td>1.0</td>\n",
              "      <td>48.0</td>\n",
              "      <td>68.0</td>\n",
              "      <td>147.0</td>\n",
              "      <td>0.0</td>\n",
              "      <td>0.0</td>\n",
              "      <td>0.0</td>\n",
              "      <td>0.0</td>\n",
              "      <td>0.0</td>\n",
              "      <td>0.0</td>\n",
              "      <td>0.0</td>\n",
              "      <td>0.0</td>\n",
              "      <td>0.0</td>\n",
              "      <td>0.0</td>\n",
              "      <td>0.0</td>\n",
              "      <td>0.0</td>\n",
              "      <td>0.0</td>\n",
              "      <td>0.0</td>\n",
              "      <td>0.0</td>\n",
              "      <td>139.0</td>\n",
              "      <td>8.0</td>\n",
              "      <td>0.4</td>\n",
              "      <td>4.0</td>\n",
              "      <td>0.6</td>\n",
              "      <td>27.0</td>\n",
              "      <td>123.0</td>\n",
              "      <td>9.7</td>\n",
              "      <td>37.0</td>\n",
              "      <td>285.0</td>\n",
              "      <td>29.0</td>\n",
              "      <td>1.0</td>\n",
              "      <td>12.0</td>\n",
              "      <td>0.0</td>\n",
              "      <td>0.0</td>\n",
              "    </tr>\n",
              "    <tr>\n",
              "      <th>1</th>\n",
              "      <td>NaN</td>\n",
              "      <td>0.0</td>\n",
              "      <td>0.0</td>\n",
              "      <td>51.0</td>\n",
              "      <td>64.0</td>\n",
              "      <td>95.0</td>\n",
              "      <td>0.0</td>\n",
              "      <td>0.0</td>\n",
              "      <td>0.0</td>\n",
              "      <td>0.0</td>\n",
              "      <td>0.0</td>\n",
              "      <td>0.0</td>\n",
              "      <td>0.0</td>\n",
              "      <td>0.0</td>\n",
              "      <td>0.0</td>\n",
              "      <td>0.0</td>\n",
              "      <td>0.0</td>\n",
              "      <td>1.0</td>\n",
              "      <td>1.0</td>\n",
              "      <td>0.0</td>\n",
              "      <td>0.0</td>\n",
              "      <td>140.0</td>\n",
              "      <td>15.0</td>\n",
              "      <td>1.3</td>\n",
              "      <td>3.2</td>\n",
              "      <td>0.7</td>\n",
              "      <td>15.0</td>\n",
              "      <td>98.0</td>\n",
              "      <td>9.0</td>\n",
              "      <td>27.0</td>\n",
              "      <td>248.0</td>\n",
              "      <td>36.0</td>\n",
              "      <td>1.5</td>\n",
              "      <td>178.0</td>\n",
              "      <td>1.0</td>\n",
              "      <td>0.0</td>\n",
              "    </tr>\n",
              "    <tr>\n",
              "      <th>2</th>\n",
              "      <td>NaN</td>\n",
              "      <td>0.0</td>\n",
              "      <td>0.0</td>\n",
              "      <td>68.0</td>\n",
              "      <td>65.0</td>\n",
              "      <td>173.0</td>\n",
              "      <td>0.0</td>\n",
              "      <td>0.0</td>\n",
              "      <td>0.0</td>\n",
              "      <td>0.0</td>\n",
              "      <td>0.0</td>\n",
              "      <td>0.0</td>\n",
              "      <td>0.0</td>\n",
              "      <td>1.0</td>\n",
              "      <td>0.0</td>\n",
              "      <td>0.0</td>\n",
              "      <td>0.0</td>\n",
              "      <td>0.0</td>\n",
              "      <td>0.0</td>\n",
              "      <td>1.0</td>\n",
              "      <td>0.0</td>\n",
              "      <td>135.0</td>\n",
              "      <td>14.0</td>\n",
              "      <td>0.5</td>\n",
              "      <td>3.2</td>\n",
              "      <td>0.9</td>\n",
              "      <td>23.0</td>\n",
              "      <td>93.0</td>\n",
              "      <td>15.8</td>\n",
              "      <td>28.0</td>\n",
              "      <td>180.0</td>\n",
              "      <td>36.0</td>\n",
              "      <td>1.3</td>\n",
              "      <td>98.0</td>\n",
              "      <td>0.0</td>\n",
              "      <td>0.0</td>\n",
              "    </tr>\n",
              "    <tr>\n",
              "      <th>3</th>\n",
              "      <td>NaN</td>\n",
              "      <td>0.0</td>\n",
              "      <td>0.0</td>\n",
              "      <td>55.0</td>\n",
              "      <td>63.0</td>\n",
              "      <td>256.0</td>\n",
              "      <td>0.0</td>\n",
              "      <td>0.0</td>\n",
              "      <td>0.0</td>\n",
              "      <td>0.0</td>\n",
              "      <td>0.0</td>\n",
              "      <td>0.0</td>\n",
              "      <td>0.0</td>\n",
              "      <td>0.0</td>\n",
              "      <td>0.0</td>\n",
              "      <td>0.0</td>\n",
              "      <td>0.0</td>\n",
              "      <td>0.0</td>\n",
              "      <td>1.0</td>\n",
              "      <td>0.0</td>\n",
              "      <td>0.0</td>\n",
              "      <td>133.0</td>\n",
              "      <td>9.0</td>\n",
              "      <td>0.5</td>\n",
              "      <td>4.6</td>\n",
              "      <td>0.2</td>\n",
              "      <td>32.0</td>\n",
              "      <td>93.0</td>\n",
              "      <td>8.6</td>\n",
              "      <td>45.0</td>\n",
              "      <td>275.0</td>\n",
              "      <td>31.0</td>\n",
              "      <td>0.9</td>\n",
              "      <td>338.0</td>\n",
              "      <td>1.0</td>\n",
              "      <td>0.0</td>\n",
              "    </tr>\n",
              "    <tr>\n",
              "      <th>4</th>\n",
              "      <td>NaN</td>\n",
              "      <td>0.0</td>\n",
              "      <td>0.0</td>\n",
              "      <td>63.0</td>\n",
              "      <td>65.0</td>\n",
              "      <td>156.0</td>\n",
              "      <td>0.0</td>\n",
              "      <td>8.0</td>\n",
              "      <td>0.0</td>\n",
              "      <td>0.0</td>\n",
              "      <td>0.0</td>\n",
              "      <td>0.0</td>\n",
              "      <td>0.0</td>\n",
              "      <td>1.0</td>\n",
              "      <td>0.0</td>\n",
              "      <td>0.0</td>\n",
              "      <td>0.0</td>\n",
              "      <td>0.0</td>\n",
              "      <td>0.0</td>\n",
              "      <td>0.0</td>\n",
              "      <td>0.0</td>\n",
              "      <td>139.0</td>\n",
              "      <td>13.0</td>\n",
              "      <td>0.9</td>\n",
              "      <td>4.3</td>\n",
              "      <td>0.6</td>\n",
              "      <td>30.0</td>\n",
              "      <td>111.0</td>\n",
              "      <td>5.7</td>\n",
              "      <td>39.0</td>\n",
              "      <td>278.0</td>\n",
              "      <td>30.0</td>\n",
              "      <td>1.0</td>\n",
              "      <td>272.0</td>\n",
              "      <td>0.0</td>\n",
              "      <td>0.0</td>\n",
              "    </tr>\n",
              "  </tbody>\n",
              "</table>\n",
              "</div>\n",
              "      <button class=\"colab-df-convert\" onclick=\"convertToInteractive('df-1f0d9004-df36-41d5-afdd-5c3ab8995c0c')\"\n",
              "              title=\"Convert this dataframe to an interactive table.\"\n",
              "              style=\"display:none;\">\n",
              "        \n",
              "  <svg xmlns=\"http://www.w3.org/2000/svg\" height=\"24px\"viewBox=\"0 0 24 24\"\n",
              "       width=\"24px\">\n",
              "    <path d=\"M0 0h24v24H0V0z\" fill=\"none\"/>\n",
              "    <path d=\"M18.56 5.44l.94 2.06.94-2.06 2.06-.94-2.06-.94-.94-2.06-.94 2.06-2.06.94zm-11 1L8.5 8.5l.94-2.06 2.06-.94-2.06-.94L8.5 2.5l-.94 2.06-2.06.94zm10 10l.94 2.06.94-2.06 2.06-.94-2.06-.94-.94-2.06-.94 2.06-2.06.94z\"/><path d=\"M17.41 7.96l-1.37-1.37c-.4-.4-.92-.59-1.43-.59-.52 0-1.04.2-1.43.59L10.3 9.45l-7.72 7.72c-.78.78-.78 2.05 0 2.83L4 21.41c.39.39.9.59 1.41.59.51 0 1.02-.2 1.41-.59l7.78-7.78 2.81-2.81c.8-.78.8-2.07 0-2.86zM5.41 20L4 18.59l7.72-7.72 1.47 1.35L5.41 20z\"/>\n",
              "  </svg>\n",
              "      </button>\n",
              "      \n",
              "  <style>\n",
              "    .colab-df-container {\n",
              "      display:flex;\n",
              "      flex-wrap:wrap;\n",
              "      gap: 12px;\n",
              "    }\n",
              "\n",
              "    .colab-df-convert {\n",
              "      background-color: #E8F0FE;\n",
              "      border: none;\n",
              "      border-radius: 50%;\n",
              "      cursor: pointer;\n",
              "      display: none;\n",
              "      fill: #1967D2;\n",
              "      height: 32px;\n",
              "      padding: 0 0 0 0;\n",
              "      width: 32px;\n",
              "    }\n",
              "\n",
              "    .colab-df-convert:hover {\n",
              "      background-color: #E2EBFA;\n",
              "      box-shadow: 0px 1px 2px rgba(60, 64, 67, 0.3), 0px 1px 3px 1px rgba(60, 64, 67, 0.15);\n",
              "      fill: #174EA6;\n",
              "    }\n",
              "\n",
              "    [theme=dark] .colab-df-convert {\n",
              "      background-color: #3B4455;\n",
              "      fill: #D2E3FC;\n",
              "    }\n",
              "\n",
              "    [theme=dark] .colab-df-convert:hover {\n",
              "      background-color: #434B5C;\n",
              "      box-shadow: 0px 1px 3px 1px rgba(0, 0, 0, 0.15);\n",
              "      filter: drop-shadow(0px 1px 2px rgba(0, 0, 0, 0.3));\n",
              "      fill: #FFFFFF;\n",
              "    }\n",
              "  </style>\n",
              "\n",
              "      <script>\n",
              "        const buttonEl =\n",
              "          document.querySelector('#df-1f0d9004-df36-41d5-afdd-5c3ab8995c0c button.colab-df-convert');\n",
              "        buttonEl.style.display =\n",
              "          google.colab.kernel.accessAllowed ? 'block' : 'none';\n",
              "\n",
              "        async function convertToInteractive(key) {\n",
              "          const element = document.querySelector('#df-1f0d9004-df36-41d5-afdd-5c3ab8995c0c');\n",
              "          const dataTable =\n",
              "            await google.colab.kernel.invokeFunction('convertToInteractive',\n",
              "                                                     [key], {});\n",
              "          if (!dataTable) return;\n",
              "\n",
              "          const docLinkHtml = 'Like what you see? Visit the ' +\n",
              "            '<a target=\"_blank\" href=https://colab.research.google.com/notebooks/data_table.ipynb>data table notebook</a>'\n",
              "            + ' to learn more about interactive tables.';\n",
              "          element.innerHTML = '';\n",
              "          dataTable['output_type'] = 'display_data';\n",
              "          await google.colab.output.renderOutput(dataTable, element);\n",
              "          const docLink = document.createElement('div');\n",
              "          docLink.innerHTML = docLinkHtml;\n",
              "          element.appendChild(docLink);\n",
              "        }\n",
              "      </script>\n",
              "    </div>\n",
              "  </div>\n",
              "  "
            ]
          },
          "metadata": {},
          "execution_count": 7
        }
      ]
    },
    {
      "cell_type": "markdown",
      "metadata": {
        "id": "dc005474"
      },
      "source": [
        "# Data Preprocessing\n",
        "\n"
      ],
      "id": "dc005474"
    },
    {
      "cell_type": "code",
      "metadata": {
        "id": "181e1d2a",
        "colab": {
          "base_uri": "https://localhost:8080/"
        },
        "outputId": "635855f6-3f27-4ce5-d0ff-85e8b725ba0d"
      },
      "source": [
        "df.isna().sum()*100/len(df)"
      ],
      "id": "181e1d2a",
      "execution_count": null,
      "outputs": [
        {
          "output_type": "execute_result",
          "data": {
            "text/plain": [
              "Unnamed: 0    1.02\n",
              "SEX           0.00\n",
              "INOUT         0.00\n",
              "Age           0.00\n",
              "HEIGHT        0.00\n",
              "WEIGHT        0.00\n",
              "SMOKE         0.00\n",
              "PACKS         0.00\n",
              "DYSPNEA       0.00\n",
              "VENTILAT      0.00\n",
              "HXCOPD        0.00\n",
              "ASCITES       0.00\n",
              "HXCHF         0.00\n",
              "HYPERMED      0.00\n",
              "RENAFAIL      0.00\n",
              "DIALYSIS      0.00\n",
              "STEROID       0.00\n",
              "WTLOSS        0.00\n",
              "BLEEDDIS      0.00\n",
              "TRANSFUS      0.00\n",
              "PRSEPIS       0.00\n",
              "PRSODM        0.00\n",
              "PRBUN         0.00\n",
              "PRCREAT       0.00\n",
              "PRALBUM       0.00\n",
              "PRBILI        0.00\n",
              "PRSGOT        0.00\n",
              "PRALKPH       0.00\n",
              "PRWBC         0.00\n",
              "PRHCT         0.00\n",
              "PRPLATE       0.00\n",
              "PRPTT         0.00\n",
              "PRINR         0.00\n",
              "OPTIME        0.00\n",
              "DOpertoD      0.00\n",
              "RETUR0R       0.00\n",
              "dtype: float64"
            ]
          },
          "metadata": {},
          "execution_count": 8
        }
      ]
    },
    {
      "cell_type": "markdown",
      "metadata": {
        "id": "fd5defb5"
      },
      "source": [
        "### Assigning the Y-Variable (Outcome Variable)\n"
      ],
      "id": "fd5defb5"
    },
    {
      "cell_type": "code",
      "metadata": {
        "id": "4dc5639b",
        "colab": {
          "base_uri": "https://localhost:8080/"
        },
        "outputId": "8e8c85ac-b032-42e2-b4d6-b49f6a1df826"
      },
      "source": [
        "y = df.DOpertoD\n",
        "y.value_counts()*100/len(y)"
      ],
      "id": "4dc5639b",
      "execution_count": null,
      "outputs": [
        {
          "output_type": "execute_result",
          "data": {
            "text/plain": [
              "0.0    93.76\n",
              "1.0     6.24\n",
              "Name: BLEEDDIS, dtype: float64"
            ]
          },
          "metadata": {},
          "execution_count": 16
        }
      ]
    },
    {
      "cell_type": "markdown",
      "metadata": {
        "id": "59c6dd88"
      },
      "source": [
        "# Preparation for Training Phase\n"
      ],
      "id": "59c6dd88"
    },
    {
      "cell_type": "code",
      "metadata": {
        "id": "eb8b5c47"
      },
      "source": [
        "X = df.drop(columns='DOpertoD')\n",
        "y = df['DOpertoD']\n",
        "\n",
        "X_train, X_test, y_train, y_test = train_test_split(X, y, test_size=0.2)"
      ],
      "id": "eb8b5c47",
      "execution_count": null,
      "outputs": []
    },
    {
      "cell_type": "code",
      "metadata": {
        "id": "AQbLpABwI5UN",
        "colab": {
          "base_uri": "https://localhost:8080/"
        },
        "outputId": "7bacfca0-ae9b-4f36-8531-1ae28e413e5d"
      },
      "source": [
        "#Just set your model to be an eXtreme Gradient Boosting (XGB) Classifier Model \n",
        "model = XGBClassifier()\n",
        "\n",
        "# Fit our model to TRAIN on our data \n",
        "model.fit(X_train, y_train)"
      ],
      "id": "AQbLpABwI5UN",
      "execution_count": null,
      "outputs": [
        {
          "output_type": "execute_result",
          "data": {
            "text/plain": [
              "XGBClassifier()"
            ]
          },
          "metadata": {},
          "execution_count": 19
        }
      ]
    },
    {
      "cell_type": "markdown",
      "metadata": {
        "id": "0lh5cUac5C_E"
      },
      "source": [
        "## Testing"
      ],
      "id": "0lh5cUac5C_E"
    },
    {
      "cell_type": "code",
      "metadata": {
        "id": "MG0EMZjVKG_B",
        "colab": {
          "base_uri": "https://localhost:8080/"
        },
        "outputId": "d3b2d467-75d3-49cf-c2a6-56bcf09163e2"
      },
      "source": [
        "pred_prob = model.predict_proba(X_test)\n",
        "pred_prob"
      ],
      "id": "MG0EMZjVKG_B",
      "execution_count": null,
      "outputs": [
        {
          "output_type": "execute_result",
          "data": {
            "text/plain": [
              "array([[0.4568116 , 0.5431884 ],\n",
              "       [0.9810558 , 0.01894422],\n",
              "       [0.98503506, 0.01496492],\n",
              "       ...,\n",
              "       [0.97186184, 0.02813818],\n",
              "       [0.9907742 , 0.00922577],\n",
              "       [0.9796707 , 0.02032929]], dtype=float32)"
            ]
          },
          "metadata": {},
          "execution_count": 20
        }
      ]
    },
    {
      "cell_type": "markdown",
      "metadata": {
        "id": "49c9c1dd"
      },
      "source": [
        "### Accuracy Score"
      ],
      "id": "49c9c1dd"
    },
    {
      "cell_type": "code",
      "metadata": {
        "id": "FiDGl2kkKHDG",
        "colab": {
          "base_uri": "https://localhost:8080/"
        },
        "outputId": "a1474fd8-af20-408e-b7c0-56328b44818b"
      },
      "source": [
        "# This is the mean accuracy of the model on the 20% test data from above\n",
        "model.score(X_test, y_test)"
      ],
      "id": "FiDGl2kkKHDG",
      "execution_count": null,
      "outputs": [
        {
          "output_type": "execute_result",
          "data": {
            "text/plain": [
              "0.924"
            ]
          },
          "metadata": {},
          "execution_count": 21
        }
      ]
    },
    {
      "cell_type": "markdown",
      "metadata": {
        "id": "e6925e9b"
      },
      "source": [
        "### ROC Curves"
      ],
      "id": "e6925e9b"
    },
    {
      "cell_type": "code",
      "metadata": {
        "id": "7KDn-WhmKHFP",
        "colab": {
          "base_uri": "https://localhost:8080/",
          "height": 698
        },
        "outputId": "36c27b9a-22db-453e-ff87-ac45e8de10ef"
      },
      "source": [
        "#get pred prob and make the plot\n",
        "pred_prob = [point[1] for point in pred_prob]\n",
        "\n",
        "from sklearn.metrics import roc_curve, plot_roc_curve, roc_auc_score\n",
        "fpr, tpr, thresholds = roc_curve(y_test, pred_prob)\n",
        "plot_roc_curve(model, X_test, y_test)  \n",
        "plt.show()\n",
        "\n",
        "print(\"Thresholds: \") \n",
        "print(thresholds)"
      ],
      "id": "7KDn-WhmKHFP",
      "execution_count": null,
      "outputs": [
        {
          "output_type": "stream",
          "name": "stderr",
          "text": [
            "/usr/local/lib/python3.8/dist-packages/sklearn/utils/deprecation.py:87: FutureWarning: Function plot_roc_curve is deprecated; Function :func:`plot_roc_curve` is deprecated in 1.0 and will be removed in 1.2. Use one of the class methods: :meth:`sklearn.metric.RocCurveDisplay.from_predictions` or :meth:`sklearn.metric.RocCurveDisplay.from_estimator`.\n",
            "  warnings.warn(msg, category=FutureWarning)\n"
          ]
        },
        {
          "output_type": "execute_result",
          "data": {
            "text/plain": [
              "<sklearn.metrics._plot.roc_curve.RocCurveDisplay at 0x7f37a4f81640>"
            ]
          },
          "metadata": {},
          "execution_count": 22
        },
        {
          "output_type": "display_data",
          "data": {
            "text/plain": [
              "<Figure size 432x288 with 1 Axes>"
            ],
            "image/png": "[encoded data removed]"
          },
          "metadata": {
            "needs_background": "light"
          }
        },
        {
          "output_type": "stream",
          "name": "stdout",
          "text": [
            "Thresholds: \n",
            "[1.6282675  0.6282675  0.5431884  0.4670694  0.45335534 0.4434271\n",
            " 0.44081944 0.39426827 0.3866484  0.37741786 0.3587544  0.35511917\n",
            " 0.35430977 0.34469602 0.30558264 0.30462205 0.29982436 0.29824197\n",
            " 0.27509877 0.26932833 0.24337187 0.24177456 0.23605528 0.22819428\n",
            " 0.21875763 0.2146362  0.2048314  0.19409229 0.19357568 0.1854404\n",
            " 0.17559588 0.17013167 0.16466035 0.16239846 0.16205783 0.16147707\n",
            " 0.15617731 0.15599233 0.15543072 0.15467563 0.15086477 0.14974765\n",
            " 0.1404312  0.13770936 0.12159126 0.12125229 0.12027972 0.11715753\n",
            " 0.11611119 0.11601257 0.10119576 0.09975654 0.09874579 0.09656223\n",
            " 0.0781995  0.07812759 0.07704617 0.07691869 0.07014164 0.06999909\n",
            " 0.06558957 0.06557401 0.06461968 0.06439165 0.06348223 0.06333386\n",
            " 0.06270371 0.06191622 0.05784228 0.05759344 0.04725403 0.04720579\n",
            " 0.04681921 0.04667002 0.04405948 0.04396687 0.04160086 0.04158669\n",
            " 0.03946216 0.03934896 0.0359796  0.03582507 0.0355521  0.03547028\n",
            " 0.03375439 0.03374429 0.03275984 0.03268598 0.03205415 0.03180873\n",
            " 0.02901632 0.02894879 0.0268939  0.0268365  0.02655278 0.02655007\n",
            " 0.02543532 0.02537384 0.0250241  0.02502156 0.02456102 0.02449842\n",
            " 0.01977483 0.01975283 0.01687935 0.01687528 0.01681324 0.01677132\n",
            " 0.01457965 0.01455191 0.01155796 0.01155751 0.00710352]\n"
          ]
        }
      ]
    },
    {
      "cell_type": "code",
      "metadata": {
        "id": "BuHAP-pmKHHw"
      },
      "source": [],
      "id": "BuHAP-pmKHHw",
      "execution_count": null,
      "outputs": []
    }
  ]
}